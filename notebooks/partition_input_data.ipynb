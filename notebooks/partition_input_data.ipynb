{
 "cells": [
  {
   "cell_type": "markdown",
   "metadata": {},
   "source": [
    "### Import libraries"
   ]
  },
  {
   "cell_type": "code",
   "execution_count": 1,
   "metadata": {},
   "outputs": [],
   "source": [
    "import os\n",
    "import shutil\n",
    "\n",
    "import pandas as pd"
   ]
  },
  {
   "cell_type": "markdown",
   "metadata": {},
   "source": [
    "### Get the current working directory"
   ]
  },
  {
   "cell_type": "code",
   "execution_count": 2,
   "metadata": {},
   "outputs": [],
   "source": [
    "cwd = os.getcwd()"
   ]
  },
  {
   "cell_type": "markdown",
   "metadata": {},
   "source": [
    "### Change directories"
   ]
  },
  {
   "cell_type": "code",
   "execution_count": 3,
   "metadata": {},
   "outputs": [
    {
     "name": "stdout",
     "output_type": "stream",
     "text": [
      "C:\\Users\\15713\\Desktop\\DS Projects\\Speech Recognition\\speech-recognition\\data\\raw\\train\n"
     ]
    }
   ],
   "source": [
    "%cd ../data/raw/train"
   ]
  },
  {
   "cell_type": "markdown",
   "metadata": {},
   "source": [
    "### Save the new directory"
   ]
  },
  {
   "cell_type": "code",
   "execution_count": 4,
   "metadata": {},
   "outputs": [],
   "source": [
    "input_dir = os.getcwd()"
   ]
  },
  {
   "cell_type": "markdown",
   "metadata": {},
   "source": [
    "### Create dictionaries indicating validation and test files"
   ]
  },
  {
   "cell_type": "code",
   "execution_count": 5,
   "metadata": {},
   "outputs": [],
   "source": [
    "validation_list = pd.read_csv(\"validation_list.txt\", header=None, names=[\"dir\"])\n",
    "validation_list[\"folder\"] = validation_list.dir.apply(lambda x: x.split(\"/\")[0])\n",
    "validation_list[\"file\"] = validation_list.dir.apply(lambda x: x.split(\"/\")[1])\n",
    "validation_list.drop(\"dir\", axis=1, inplace=True)\n",
    "validation_dict = validation_list.groupby(\"folder\").apply(lambda x: x.file.tolist()).to_dict()\n",
    "\n",
    "test_list = pd.read_csv(\"testing_list.txt\", header=None, names=[\"dir\"])\n",
    "test_list[\"folder\"] = test_list.dir.apply(lambda x: x.split(\"/\")[0])\n",
    "test_list[\"file\"] = test_list.dir.apply(lambda x: x.split(\"/\")[1])\n",
    "test_list.drop(\"dir\", axis=1, inplace=True)\n",
    "test_dict = test_list.groupby(\"folder\").apply(lambda x: x.file.tolist()).to_dict()"
   ]
  },
  {
   "cell_type": "markdown",
   "metadata": {},
   "source": [
    "### Partition the data"
   ]
  },
  {
   "cell_type": "code",
   "execution_count": 6,
   "metadata": {},
   "outputs": [],
   "source": [
    "for r, d, f in os.walk(input_dir):\n",
    "    if r.split(\"\\\\\")[-1] != \"_background_noise_\":\n",
    "        for file in f:\n",
    "            if file.endswith(\".wav\"):\n",
    "                if file in validation_dict[r.split(\"\\\\\")[-1]]:\n",
    "                    shutil.copy(os.path.join(r, file), \"C:\\\\Users\\\\15713\\\\Desktop\\\\DS Projects\\\\Speech Recognition\\\\speech-recognition\\\\data\\\\partitioned\\\\validation\\\\\" + r.split(\"\\\\\")[-1])\n",
    "                elif file in test_dict[r.split(\"\\\\\")[-1]]:\n",
    "                    shutil.copy(os.path.join(r, file), \"C:\\\\Users\\\\15713\\\\Desktop\\\\DS Projects\\\\Speech Recognition\\\\speech-recognition\\\\data\\\\partitioned\\\\test\\\\\" + r.split(\"\\\\\")[-1])\n",
    "                else:\n",
    "                    shutil.copy(os.path.join(r, file), \"C:\\\\Users\\\\15713\\\\Desktop\\\\DS Projects\\\\Speech Recognition\\\\speech-recognition\\\\data\\\\partitioned\\\\training\\\\\" + r.split(\"\\\\\")[-1])"
   ]
  },
  {
   "cell_type": "markdown",
   "metadata": {},
   "source": [
    "### Change back to the original directory"
   ]
  },
  {
   "cell_type": "code",
   "execution_count": 7,
   "metadata": {},
   "outputs": [],
   "source": [
    "os.chdir(cwd)"
   ]
  }
 ],
 "metadata": {
  "kernelspec": {
   "display_name": "Python 3",
   "language": "python",
   "name": "python3"
  },
  "language_info": {
   "codemirror_mode": {
    "name": "ipython",
    "version": 3
   },
   "file_extension": ".py",
   "mimetype": "text/x-python",
   "name": "python",
   "nbconvert_exporter": "python",
   "pygments_lexer": "ipython3",
   "version": "3.7.4"
  }
 },
 "nbformat": 4,
 "nbformat_minor": 2
}
